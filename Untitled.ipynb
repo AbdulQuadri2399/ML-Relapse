{
 "cells": [
  {
   "cell_type": "code",
   "execution_count": 4,
   "id": "38f3ed3a-df5a-4e77-8bcc-d951ddac81a2",
   "metadata": {},
   "outputs": [],
   "source": [
    "import pandas as pd\n",
    "import seaborn as sns\n",
    "import matplotlib.pyplot as plt\n",
    "from ipywidgets import Dropdown, IntSlider, FloatSlider, interact\n",
    "from sklearn.linear_model import LinearRegression, Ridge\n",
    "from sklearn.pipeline import make_pipeline, Pipeline\n",
    "from sklearn.metrics import mean_absolute_error\n",
    "from sklearn.impute import SimpleImputer\n",
    "from category_encoders import OneHotEncoder"
   ]
  },
  {
   "cell_type": "code",
   "execution_count": 14,
   "id": "77085d41-285b-4412-83de-b4e959549ea0",
   "metadata": {},
   "outputs": [],
   "source": [
    "temp_df = pd.read_csv(\"./data/mexico-city-real-estate-5.csv\")"
   ]
  },
  {
   "cell_type": "code",
   "execution_count": 15,
   "id": "80ba9c12-8243-4612-bf3e-297669647996",
   "metadata": {},
   "outputs": [
    {
     "data": {
      "text/html": [
       "<div>\n",
       "<style scoped>\n",
       "    .dataframe tbody tr th:only-of-type {\n",
       "        vertical-align: middle;\n",
       "    }\n",
       "\n",
       "    .dataframe tbody tr th {\n",
       "        vertical-align: top;\n",
       "    }\n",
       "\n",
       "    .dataframe thead th {\n",
       "        text-align: right;\n",
       "    }\n",
       "</style>\n",
       "<table border=\"1\" class=\"dataframe\">\n",
       "  <thead>\n",
       "    <tr style=\"text-align: right;\">\n",
       "      <th></th>\n",
       "      <th>Unnamed: 0</th>\n",
       "      <th>operation</th>\n",
       "      <th>property_type</th>\n",
       "      <th>place_with_parent_names</th>\n",
       "      <th>lat-lon</th>\n",
       "      <th>price</th>\n",
       "      <th>currency</th>\n",
       "      <th>price_aprox_local_currency</th>\n",
       "      <th>price_aprox_usd</th>\n",
       "      <th>surface_total_in_m2</th>\n",
       "      <th>surface_covered_in_m2</th>\n",
       "      <th>price_usd_per_m2</th>\n",
       "      <th>price_per_m2</th>\n",
       "      <th>floor</th>\n",
       "      <th>rooms</th>\n",
       "      <th>expenses</th>\n",
       "      <th>properati_url</th>\n",
       "    </tr>\n",
       "  </thead>\n",
       "  <tbody>\n",
       "    <tr>\n",
       "      <th>0</th>\n",
       "      <td>1</td>\n",
       "      <td>sell</td>\n",
       "      <td>house</td>\n",
       "      <td>|Tlalpan|Distrito Federal|México|</td>\n",
       "      <td>19.2881277,-99.1383849</td>\n",
       "      <td>4890000.0</td>\n",
       "      <td>MXN</td>\n",
       "      <td>4845763.63</td>\n",
       "      <td>257636.90</td>\n",
       "      <td>144.0</td>\n",
       "      <td>254.0</td>\n",
       "      <td>1789.145139</td>\n",
       "      <td>19251.96850</td>\n",
       "      <td>NaN</td>\n",
       "      <td>NaN</td>\n",
       "      <td>NaN</td>\n",
       "      <td>http://tlalpan.properati.com.mx/l5lr_venta_cas...</td>\n",
       "    </tr>\n",
       "    <tr>\n",
       "      <th>1</th>\n",
       "      <td>2</td>\n",
       "      <td>sell</td>\n",
       "      <td>apartment</td>\n",
       "      <td>|Benito Juárez|Distrito Federal|México|</td>\n",
       "      <td>19.36269,-99.150565</td>\n",
       "      <td>1570000.0</td>\n",
       "      <td>MXN</td>\n",
       "      <td>1556166.19</td>\n",
       "      <td>82737.39</td>\n",
       "      <td>NaN</td>\n",
       "      <td>75.0</td>\n",
       "      <td>NaN</td>\n",
       "      <td>20933.33333</td>\n",
       "      <td>NaN</td>\n",
       "      <td>NaN</td>\n",
       "      <td>NaN</td>\n",
       "      <td>http://benito-juarez.properati.com.mx/raei_ven...</td>\n",
       "    </tr>\n",
       "  </tbody>\n",
       "</table>\n",
       "</div>"
      ],
      "text/plain": [
       "   Unnamed: 0 operation property_type  \\\n",
       "0           1      sell         house   \n",
       "1           2      sell     apartment   \n",
       "\n",
       "                   place_with_parent_names                 lat-lon      price  \\\n",
       "0        |Tlalpan|Distrito Federal|México|  19.2881277,-99.1383849  4890000.0   \n",
       "1  |Benito Juárez|Distrito Federal|México|     19.36269,-99.150565  1570000.0   \n",
       "\n",
       "  currency  price_aprox_local_currency  price_aprox_usd  surface_total_in_m2  \\\n",
       "0      MXN                  4845763.63        257636.90                144.0   \n",
       "1      MXN                  1556166.19         82737.39                  NaN   \n",
       "\n",
       "   surface_covered_in_m2  price_usd_per_m2  price_per_m2  floor  rooms  \\\n",
       "0                  254.0       1789.145139   19251.96850    NaN    NaN   \n",
       "1                   75.0               NaN   20933.33333    NaN    NaN   \n",
       "\n",
       "   expenses                                      properati_url  \n",
       "0       NaN  http://tlalpan.properati.com.mx/l5lr_venta_cas...  \n",
       "1       NaN  http://benito-juarez.properati.com.mx/raei_ven...  "
      ]
     },
     "execution_count": 15,
     "metadata": {},
     "output_type": "execute_result"
    }
   ],
   "source": [
    "temp_df.head(2)"
   ]
  },
  {
   "cell_type": "code",
   "execution_count": 16,
   "id": "38f7cb1e-33a4-450d-8d9d-eb88fd509c84",
   "metadata": {},
   "outputs": [],
   "source": [
    "mask_DF = temp_df[\"place_with_parent_names\"] == \"Distrito Federal\""
   ]
  },
  {
   "cell_type": "code",
   "execution_count": 17,
   "id": "ba4ca7e0-2d34-473a-8bb0-2a15571fc500",
   "metadata": {},
   "outputs": [],
   "source": [
    "mask_pt = temp_df[\"property_type\"] == \"apartment\" "
   ]
  },
  {
   "cell_type": "code",
   "execution_count": 20,
   "id": "78a363be-870a-4ebd-b39a-46008cd5fb10",
   "metadata": {},
   "outputs": [],
   "source": [
    "mask_100k_less = temp_df[\"price_aprox_usd\"] < 100_000"
   ]
  },
  {
   "cell_type": "code",
   "execution_count": 21,
   "id": "9378f5b3-41c3-409d-8f86-33133856a557",
   "metadata": {},
   "outputs": [],
   "source": [
    "temp_df = temp_df[mask_DF & mask_pt & mask_100k_less]"
   ]
  },
  {
   "cell_type": "code",
   "execution_count": null,
   "id": "b6cf7b14-d5b4-41b9-a57a-87229e477435",
   "metadata": {},
   "outputs": [],
   "source": [
    "temp_df"
   ]
  },
  {
   "cell_type": "code",
   "execution_count": null,
   "id": "f35c8789-9099-4e11-9fe0-b2deb89d97bf",
   "metadata": {},
   "outputs": [],
   "source": [
    "def wrangle(file_path):\n",
    "\n",
    "    return df"
   ]
  }
 ],
 "metadata": {
  "kernelspec": {
   "display_name": "Python 3 (ipykernel)",
   "language": "python",
   "name": "python3"
  },
  "language_info": {
   "codemirror_mode": {
    "name": "ipython",
    "version": 3
   },
   "file_extension": ".py",
   "mimetype": "text/x-python",
   "name": "python",
   "nbconvert_exporter": "python",
   "pygments_lexer": "ipython3",
   "version": "3.11.7"
  }
 },
 "nbformat": 4,
 "nbformat_minor": 5
}
